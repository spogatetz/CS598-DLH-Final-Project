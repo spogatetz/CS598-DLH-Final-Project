{
 "cells": [
  {
   "cell_type": "code",
   "execution_count": 5,
   "metadata": {},
   "outputs": [],
   "source": [
    "from nltk.parse import CoreNLPParser\n",
    "from nltk.tree import ParentedTree"
   ]
  },
  {
   "cell_type": "code",
   "execution_count": 16,
   "metadata": {},
   "outputs": [],
   "source": [
    "input_file = \"./raw_data/msr_paraphrase_train.txt\"\n",
    "output_file = \"./trunk_data/spo_train_multiword.txt\"\n",
    "parser = CoreNLPParser(url='http://localhost:9000')"
   ]
  },
  {
   "cell_type": "code",
   "execution_count": 10,
   "metadata": {},
   "outputs": [],
   "source": [
    "def extract_subject(tree):\n",
    "    object = []\n",
    "    for i in tree.subtrees():\n",
    "        if i.label().startswith(\"NN\"):\n",
    "            object.append(i[0])\n",
    "    return object\n",
    "\n",
    "def extract_predicate_object(tree):\n",
    "    predicate = None\n",
    "    for i in tree.subtrees():\n",
    "        if i.label().startswith(\"VB\"):\n",
    "            predicate = i[0]\n",
    "        if i.label().startswith(\"NN\"):\n",
    "            object = i[0]\n",
    "    return predicate, object\n",
    "\n",
    "def extract_predicate(tree):\n",
    "    predicate = []\n",
    "    for i in tree.subtrees():\n",
    "        if i.label().startswith(\"VB\"):\n",
    "            predicate.append(i[0])\n",
    "    return predicate\n",
    "\n",
    "def extract_object(tree):\n",
    "    object = []\n",
    "    for i in tree.subtrees():\n",
    "        if i.label().startswith(\"NN\"):\n",
    "            object.append(i[0])\n",
    "    return object\n",
    "\n",
    "def SPO_kernel(sentence):\n",
    "    tree = parser.raw_parse(sentence)\n",
    "    spo = []\n",
    "    length = 0\n",
    "    sentence_height = 0\n",
    "    for i in tree:\n",
    "        ptree = ParentedTree.convert(i);\n",
    "\n",
    "        # ptree.pprint()\n",
    "\n",
    "        sentence_root = None\n",
    "        root_height = -1\n",
    "        for j in ptree.subtrees(lambda t: t.label() == \"S\"):\n",
    "            if root_height < j.height():\n",
    "                sentence_root = j\n",
    "                root_height = sentence_root.height()\n",
    "\n",
    "        # print(f\"sentence root: {sentence_root}\")\n",
    "\n",
    "        if sentence_root is None:\n",
    "            return None\n",
    "\n",
    "        for j in sentence_root.subtrees(lambda t: t.parent() == sentence_root):\n",
    "            # print('---')\n",
    "            # print(f\"label: {j.label()} {j}\")\n",
    "            if(j.label() == \"NP\"):\n",
    "                # print(f\"extracted subject: {extract_subject(j)}\")\n",
    "                spo.append(extract_subject(j))\n",
    "            if(j.label() == \"VP\"):\n",
    "                # print(f\"extracted predicate: {extract_predicate(j)}, object: {extract_object(j)}\")\n",
    "                spo.append(extract_predicate(j))\n",
    "                spo.append(extract_object(j))\n",
    "    return spo\n",
    "\n",
    "def handle_line(line):\n",
    "    tokens = line.split(\"\\t\")\n",
    "    quality = tokens[0]\n",
    "    id1 = tokens[1]\n",
    "    id2 = tokens[2]\n",
    "    sentence1 = tokens[3]\n",
    "    sentence2 = tokens[4]\n",
    "    spo1 = SPO_kernel(sentence1)\n",
    "    spo2 = SPO_kernel(sentence2)\n",
    "    return f\"{quality}\\t{id1}\\t{id2}\\t{spo1}\\t{spo2}\\n\""
   ]
  },
  {
   "cell_type": "code",
   "execution_count": 13,
   "metadata": {},
   "outputs": [
    {
     "name": "stdout",
     "output_type": "stream",
     "text": [
      "[['Amrozi'], ['accused', 'called', 'distorting'], ['brother', 'witness', 'evidence']]\n"
     ]
    }
   ],
   "source": [
    "print(SPO_kernel(\"Amrozi accused his brother, whom he called \\\"the witness\\\", of deliberately distorting his evidence.\"))"
   ]
  },
  {
   "attachments": {},
   "cell_type": "markdown",
   "metadata": {},
   "source": [
    "Run the following command to start a Java server running the Stanford parser:\n",
    "\n",
    "`java -mx4g -cp \"*\" edu.stanford.nlp.pipeline.StanfordCoreNLPServer \\\n",
    "-preload tokenize,ssplit,pos,lemma,ner,parse,depparse \\\n",
    "-status_port 9000 -port 9000 -timeout 15000`"
   ]
  },
  {
   "cell_type": "code",
   "execution_count": 11,
   "metadata": {},
   "outputs": [],
   "source": [
    "with open(input_file, encoding=\"utf-8-sig\") as in_file:\n",
    "    with open(output_file, \"w\") as out_file:\n",
    "        for line in in_file:\n",
    "            # print(line)\n",
    "            if(line[0] != \"Q\"):\n",
    "                out_file.write(handle_line(line))"
   ]
  }
 ],
 "metadata": {
  "kernelspec": {
   "display_name": "Python 3",
   "language": "python",
   "name": "python3"
  },
  "language_info": {
   "codemirror_mode": {
    "name": "ipython",
    "version": 3
   },
   "file_extension": ".py",
   "mimetype": "text/x-python",
   "name": "python",
   "nbconvert_exporter": "python",
   "pygments_lexer": "ipython3",
   "version": "3.10.10"
  },
  "orig_nbformat": 4
 },
 "nbformat": 4,
 "nbformat_minor": 2
}
